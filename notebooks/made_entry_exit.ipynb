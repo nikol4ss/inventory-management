{
 "cells": [
  {
   "cell_type": "code",
   "execution_count": 2,
   "id": "2913b0c9",
   "metadata": {},
   "outputs": [],
   "source": [
    "import pandas as pd\n",
    "import os"
   ]
  },
  {
   "cell_type": "code",
   "execution_count": 4,
   "id": "267a3e67",
   "metadata": {},
   "outputs": [],
   "source": [
    "path = input(str('Archive path? '))\n",
    "\n",
    "if not os.path.exists(path):\n",
    "    print(\"path does not exist\")\n",
    "\n",
    "df = pd.read_csv(path)\n",
    "df['estoque_final'] = df[\"entrada\"] - df[\"saida\"]"
   ]
  },
  {
   "cell_type": "code",
   "execution_count": 6,
   "id": "cd76141b",
   "metadata": {},
   "outputs": [],
   "source": [
    "report = df[[\"nome\", \"categoria\", \"preco\", \"estoque_final\", \"saida\"]]\n",
    "\n",
    "output = input(str(\"What is the name of the file?\")) or \"relatorio.xlsx\"\n",
    "sheet = report.to_excel(output, index=False)"
   ]
  }
 ],
 "metadata": {
  "kernelspec": {
   "display_name": ".venv",
   "language": "python",
   "name": "python3"
  },
  "language_info": {
   "codemirror_mode": {
    "name": "ipython",
    "version": 3
   },
   "file_extension": ".py",
   "mimetype": "text/x-python",
   "name": "python",
   "nbconvert_exporter": "python",
   "pygments_lexer": "ipython3",
   "version": "3.13.3"
  }
 },
 "nbformat": 4,
 "nbformat_minor": 5
}
